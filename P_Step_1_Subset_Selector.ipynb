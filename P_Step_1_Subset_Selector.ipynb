{
 "cells": [
  {
   "cell_type": "markdown",
   "metadata": {},
   "source": [
    "In this step the data is broken down into the subset that is planned to be analysed. The initial subset was the halo in the local stellar neighbourhood. The code here applies restrictions to obtain a relevant subset based on the literature."
   ]
  },
  {
   "cell_type": "code",
   "execution_count": 1,
   "metadata": {},
   "outputs": [],
   "source": [
    "#Load in relevant libraries\n",
    "import math\n",
    "\n",
    "import numpy as np\n",
    "\n",
    "from astropy import units as u\n",
    "from astropy import coordinates as coord\n",
    "from astropy.coordinates import SkyCoord, ICRS, Galactocentric, Distance, LSR\n",
    "from astropy.coordinates import FK5\n",
    "from astropy.coordinates import CartesianRepresentation, CartesianDifferential\n",
    "from astropy.table import Table, vstack, hstack\n",
    "from astropy.table import Column\n",
    "from astropy.io import ascii\n",
    "\n",
    "import gala.potential as gp\n",
    "import gala.dynamics as gd\n",
    "from gala.units import galactic\n",
    "\n",
    "from scipy import stats\n",
    "\n",
    "from sklearn.cluster import DBSCAN\n",
    "from sklearn import metrics\n",
    "from sklearn.datasets.samples_generator import make_blobs\n",
    "from sklearn.preprocessing import StandardScaler, normalize\n",
    "\n",
    "\n",
    "import time\n",
    "\n",
    "from matplotlib import pyplot\n",
    "\n",
    "import pandas as pd"
   ]
  },
  {
   "cell_type": "code",
   "execution_count": 2,
   "metadata": {},
   "outputs": [
    {
     "name": "stdout",
     "output_type": "stream",
     "text": [
      "Total Number of Stars in Dataset: 7224631\n"
     ]
    }
   ],
   "source": [
    "#Load in the table with recorded radial velocities\n",
    "t = Table.read('Gaia_Data.fits')\n",
    "\n",
    "print(\"Total Number of Stars in Dataset: \" + str(len(t)))"
   ]
  },
  {
   "cell_type": "code",
   "execution_count": 3,
   "metadata": {},
   "outputs": [
    {
     "name": "stderr",
     "output_type": "stream",
     "text": [
      "/Library/Frameworks/Python.framework/Versions/3.6/lib/python3.6/site-packages/astropy/table/column.py:965: RuntimeWarning: invalid value encountered in less\n",
      "  return getattr(self.data, op)(other)\n"
     ]
    },
    {
     "name": "stdout",
     "output_type": "stream",
     "text": [
      "Total Number of Stars in Dataset: 6447952\n"
     ]
    }
   ],
   "source": [
    "#Reduce the dataset so that the percentage error of the parralax is less than 20%\n",
    "# Note: This only needs to be done if you are caluclating distance values using parrallax\n",
    "t = t[(t['parallax_error']/t['parallax']<0.2)]\n",
    "\n",
    "print(\"Total Number of Stars in Dataset: \" + str(len(t)))\n",
    "\n",
    "#Convert the parralax measurements to distance measurements\n",
    "a = t['parallax']\n",
    "a = a.to(u.arcsec)\n",
    "\n",
    "#Add the new distance measurements as a new column into the table\n",
    "dist = ((1/a).value)*u.parsec\n",
    "dist = Column(dist,name='dist')\n",
    "t.add_column(dist)"
   ]
  },
  {
   "cell_type": "code",
   "execution_count": 4,
   "metadata": {},
   "outputs": [
    {
     "name": "stdout",
     "output_type": "stream",
     "text": [
      "Total Number of Stars in Dataset: 3105498\n"
     ]
    }
   ],
   "source": [
    "#Create a subset that only includes stars that are 1kpc from the sun\n",
    "# Note: This step was done to create a subset within close range of our sun\n",
    "t = t[(t['dist']<1000) & (t['dist']>0)]\n",
    "\n",
    "print(\"Total Number of Stars in Dataset: \" + str(len(t)))"
   ]
  },
  {
   "cell_type": "code",
   "execution_count": 5,
   "metadata": {},
   "outputs": [
    {
     "name": "stdout",
     "output_type": "stream",
     "text": [
      "Total Number of Stars in Dataset: 3105498\n"
     ]
    }
   ],
   "source": [
    "#We need to calculate values into recangular galactocentric positions and velocities\n",
    "\n",
    "#First save the coordinates of each datapoint in the current dataset as a set\n",
    "# of ICRS coordinates using astropy\n",
    "\n",
    "c = ICRS(ra=t['ra'], \n",
    "         \n",
    "         dec=t['dec'], \n",
    "         \n",
    "         distance=t['dist'],\n",
    "         \n",
    "         pm_ra_cosdec=t['pmra'],\n",
    "         \n",
    "         pm_dec=t['pmdec'],\n",
    "         \n",
    "         radial_velocity=t['radial_velocity'])\n",
    "\n",
    "#Saved Coordinates are transformed into Galactocentric coordinates\n",
    "galc = c.transform_to(Galactocentric)\n",
    "\n",
    "#The values of the coordinates are extracted and added to the table\n",
    "x = galc.x\n",
    "y = galc.y\n",
    "z = galc.z\n",
    "\n",
    "x = Column(x,name='x_val')\n",
    "y = Column(y,name='y_val')\n",
    "z = Column(z,name='z_val')\n",
    "\n",
    "U = galc.v_x\n",
    "V = galc.v_y\n",
    "W = galc.v_z\n",
    "\n",
    "U = Column(U,name='U')\n",
    "V = Column(V,name='V')\n",
    "W = Column(W,name='W')\n",
    "\n",
    "t.add_column(x)\n",
    "t.add_column(y)\n",
    "t.add_column(z)\n",
    "\n",
    "t.add_column(U)\n",
    "t.add_column(V)\n",
    "t.add_column(W)\n",
    "\n",
    "#The total velocity of each star is calculated and added to the \n",
    "# table by first removing the local standard of rest\n",
    "X = t['U']\n",
    "Y = t['V']\n",
    "Z = t['W']\n",
    "\n",
    "Y = Y - 232\n",
    "\n",
    "Vel = np.sqrt(X*X + Y*Y + Z*Z)\n",
    "V_Tot = Column(Vel, name='V_LSR')\n",
    "\n",
    "t.add_column(V_Tot)\n",
    "\n",
    "print(\"Total Number of Stars in Dataset: \" + str(len(t)))"
   ]
  },
  {
   "cell_type": "code",
   "execution_count": 6,
   "metadata": {},
   "outputs": [
    {
     "name": "stdout",
     "output_type": "stream",
     "text": [
      "Total Number of Stars in Dataset: 6789\n"
     ]
    }
   ],
   "source": [
    "#The Halo selection criteria based on Koppelman et al. 2018 is applied here\n",
    "# Note: If you don't want halo stars don't run this cell\n",
    "t = t[(t['V_LSR']>210)]\n",
    "\n",
    "print(\"Total Number of Stars in Dataset: \" + str(len(t)))"
   ]
  },
  {
   "cell_type": "code",
   "execution_count": 7,
   "metadata": {},
   "outputs": [],
   "source": [
    "#The subset is saved as a fits datafile ready to have actions calculated.\n",
    "t.write('Step_1_Output.fits',overwrite=True)"
   ]
  },
  {
   "cell_type": "code",
   "execution_count": null,
   "metadata": {},
   "outputs": [],
   "source": []
  }
 ],
 "metadata": {
  "kernelspec": {
   "display_name": "Python 3",
   "language": "python",
   "name": "python3"
  },
  "language_info": {
   "codemirror_mode": {
    "name": "ipython",
    "version": 3
   },
   "file_extension": ".py",
   "mimetype": "text/x-python",
   "name": "python",
   "nbconvert_exporter": "python",
   "pygments_lexer": "ipython3",
   "version": "3.6.4"
  }
 },
 "nbformat": 4,
 "nbformat_minor": 2
}
