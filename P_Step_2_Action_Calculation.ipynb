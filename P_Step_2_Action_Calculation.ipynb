{
 "cells": [
  {
   "cell_type": "markdown",
   "metadata": {},
   "source": [
    "This step calculates the integrals of motion for each star. Namely Energy, and angular momentum"
   ]
  },
  {
   "cell_type": "code",
   "execution_count": 1,
   "metadata": {},
   "outputs": [],
   "source": [
    "#Load in relevant libraries\n",
    "import math\n",
    "\n",
    "import numpy as np\n",
    "\n",
    "from astropy import units as u\n",
    "from astropy import coordinates as coord\n",
    "from astropy.coordinates import SkyCoord, ICRS, Galactocentric, Distance, LSR\n",
    "from astropy.coordinates import FK5\n",
    "from astropy.coordinates import CartesianRepresentation, CartesianDifferential\n",
    "from astropy.table import Table, vstack, hstack\n",
    "from astropy.table import Column\n",
    "from astropy.io import ascii\n",
    "\n",
    "import gala.potential as gp\n",
    "import gala.dynamics as gd\n",
    "from gala.units import galactic\n",
    "\n",
    "from scipy import stats\n",
    "\n",
    "from sklearn.cluster import DBSCAN\n",
    "from sklearn import metrics\n",
    "from sklearn.datasets.samples_generator import make_blobs\n",
    "from sklearn.preprocessing import StandardScaler, normalize\n",
    "\n",
    "\n",
    "import time\n",
    "\n",
    "from matplotlib import pyplot\n",
    "\n",
    "import pandas as pd"
   ]
  },
  {
   "cell_type": "code",
   "execution_count": 2,
   "metadata": {},
   "outputs": [
    {
     "name": "stdout",
     "output_type": "stream",
     "text": [
      "Total Number of Stars in Dataset: 6789\n"
     ]
    }
   ],
   "source": [
    "#Load in the subset that was created in Step 1\n",
    "t = Table.read('Step_1_Output.fits')\n",
    "\n",
    "print(\"Total Number of Stars in Dataset: \" + str(len(t)))"
   ]
  },
  {
   "cell_type": "code",
   "execution_count": 3,
   "metadata": {},
   "outputs": [
    {
     "name": "stdout",
     "output_type": "stream",
     "text": [
      "Total Number of Stars in Dataset: 6789\n"
     ]
    }
   ],
   "source": [
    "#Using the galactocentric positions and velocities provided in \n",
    "# the data set the actions are calculated\n",
    "\n",
    "x = t['x_val']\n",
    "y = t['y_val']\n",
    "z = t['z_val']\n",
    "\n",
    "U = t['U']\n",
    "V = t['V']\n",
    "W = t['W']\n",
    "\n",
    "#In order to calculate the actions, you need to specifiy a graviational potential. \n",
    "# In this case we use a combination of potentials in the same manner as Helmi et al 2017. \n",
    "#  Using the MilkyWayPotential class models the buldge, disk and halo in combination. \n",
    "pot = gp.MilkyWayPotential(units=galactic)\n",
    "\n",
    "#We use the Gala function PhaseSpacePosition to save the 6-D phase space coordinates, which\n",
    "# are taken from the above vectors,\n",
    "w0 = gd.PhaseSpacePosition(pos=[x, y, z]*u.pc,\n",
    "                           vel=[U, V, W]*u.km/u.s)\n",
    "\n",
    "#The orbit of the star is then calculated using the following command for 1000 steps. \n",
    "# Each step is one megayear.\n",
    "orbit = gp.Hamiltonian(pot).integrate_orbit(w0, dt=1., n_steps=1000)\n",
    "\n",
    "#The energies of each stars orbit is calculated\n",
    "E = orbit.energy().to(u.km*u.km/(u.s*u.s))\n",
    "Energy = Column(E[0], name = 'Energy')\n",
    "\n",
    "\n",
    "#Z-coomponent of angular momentum is calculated\n",
    "Lz = orbit.angular_momentum()[2].to(u.km*u.kpc/u.s)\n",
    "L_z = Column(Lz[0], name = 'Lz')\n",
    "\n",
    "#The x and y components of the angular momentumes are caluclated\n",
    "Lx = orbit.angular_momentum()[0].to(u.km*u.kpc/u.s)\n",
    "Ly = orbit.angular_momentum()[1].to(u.km*u.kpc/u.s)\n",
    "\n",
    "#We calculcualte the perpedicular component of the angular momentum, by applying\n",
    "# pythagoras theorem to the x and y component\n",
    "Lp = np.sqrt(Lx[0]*Lx[0]+Ly[0]*Ly[0])\n",
    "L_perp = Column(Lp, name = 'L_perp')\n",
    "\n",
    "#The calculated actions are then added as columns to the subset table\n",
    "t.add_column(Energy)\n",
    "\n",
    "#Gala's angular momentum values in the z-direction are negatives to Koppelman et al. 2018\n",
    "# to get them to correspond we mulitply by minus one. \n",
    "L_z = -L_z\n",
    "t.add_column(L_z)\n",
    "t.add_column(L_perp)\n",
    "\n",
    "print(\"Total Number of Stars in Dataset: \" + str(len(t)))"
   ]
  },
  {
   "cell_type": "code",
   "execution_count": 4,
   "metadata": {},
   "outputs": [],
   "source": [
    "#The subset is saved as a fits datafile ready to be datamined\n",
    "t.write('Step_2_Output.fits',overwrite=True)"
   ]
  },
  {
   "cell_type": "code",
   "execution_count": null,
   "metadata": {},
   "outputs": [],
   "source": []
  }
 ],
 "metadata": {
  "kernelspec": {
   "display_name": "Python 3",
   "language": "python",
   "name": "python3"
  },
  "language_info": {
   "codemirror_mode": {
    "name": "ipython",
    "version": 3
   },
   "file_extension": ".py",
   "mimetype": "text/x-python",
   "name": "python",
   "nbconvert_exporter": "python",
   "pygments_lexer": "ipython3",
   "version": "3.6.4"
  }
 },
 "nbformat": 4,
 "nbformat_minor": 2
}
