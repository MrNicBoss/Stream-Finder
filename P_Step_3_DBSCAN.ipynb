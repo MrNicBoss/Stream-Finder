{
 "cells": [
  {
   "cell_type": "markdown",
   "metadata": {},
   "source": [
    "This step is the Datamining phase, the first steps allow one to extract a range (EPS) value by creating a four distance plot. See the original publication Ester et al. (1996) for an indepth explanation of the four distance plot. Alternatively my method section in my thesis has an example which explains the steps on a arteficial set of data that has been already clutered. I've also included the code for how that works in this folder as DBSCAN_Example."
   ]
  },
  {
   "cell_type": "code",
   "execution_count": 1,
   "metadata": {},
   "outputs": [],
   "source": [
    "#Load in relevant libraries\n",
    "import math\n",
    "\n",
    "import numpy as np\n",
    "\n",
    "from astropy import units as u\n",
    "from astropy import coordinates as coord\n",
    "from astropy.coordinates import SkyCoord, ICRS, Galactocentric, Distance, LSR\n",
    "from astropy.coordinates import FK5\n",
    "from astropy.coordinates import CartesianRepresentation, CartesianDifferential\n",
    "from astropy.table import Table, vstack, hstack\n",
    "from astropy.table import Column\n",
    "from astropy.io import ascii\n",
    "\n",
    "import gala.potential as gp\n",
    "import gala.dynamics as gd\n",
    "from gala.units import galactic\n",
    "\n",
    "from scipy import stats\n",
    "\n",
    "from sklearn.cluster import DBSCAN\n",
    "from sklearn import metrics\n",
    "from sklearn.datasets.samples_generator import make_blobs\n",
    "from sklearn.preprocessing import StandardScaler, normalize\n",
    "\n",
    "\n",
    "import time\n",
    "\n",
    "import matplotlib.pyplot as plt\n",
    "\n",
    "import pandas as pd\n",
    "\n",
    "import seaborn as sns"
   ]
  },
  {
   "cell_type": "code",
   "execution_count": 2,
   "metadata": {},
   "outputs": [
    {
     "name": "stdout",
     "output_type": "stream",
     "text": [
      "Total Number of Stars in Dataset: 6789\n"
     ]
    }
   ],
   "source": [
    "#Load in the subset that contain the actions, ready for datamining\n",
    "t = Table.read('Step_2_Output.fits')\n",
    "\n",
    "print(\"Total Number of Stars in Dataset: \" + str(len(t)))"
   ]
  },
  {
   "cell_type": "code",
   "execution_count": 3,
   "metadata": {},
   "outputs": [],
   "source": [
    "#This line of code coverts any two columns specified from the data set in a 3-D\n",
    "# array which is compatable with the DBSCAN algorithm.\n",
    "x_val='Lz'\n",
    "y_val='L_perp'\n",
    "z_val='Energy'\n",
    "\n",
    "A=t[x_val][0]\n",
    "B=t[y_val][0]\n",
    "C=t[z_val][0]\n",
    "X=[A,B,C]\n",
    "for i in range(1,len(t)):\n",
    "    D=t[x_val][i]\n",
    "    E=t[y_val][i]\n",
    "    F=t[z_val][i]\n",
    "    G=np.array([D,E,F])\n",
    "    X=np.vstack([X,G])\n",
    "\n",
    "X = StandardScaler().fit_transform(X)"
   ]
  },
  {
   "cell_type": "code",
   "execution_count": 4,
   "metadata": {},
   "outputs": [
    {
     "name": "stdout",
     "output_type": "stream",
     "text": [
      "Loops Left: 6544\r"
     ]
    },
    {
     "ename": "KeyboardInterrupt",
     "evalue": "",
     "output_type": "error",
     "traceback": [
      "\u001b[0;31m---------------------------------------------------------------------------\u001b[0m",
      "\u001b[0;31mKeyboardInterrupt\u001b[0m                         Traceback (most recent call last)",
      "\u001b[0;32m<ipython-input-4-1748dcfd4ec7>\u001b[0m in \u001b[0;36m<module>\u001b[0;34m()\u001b[0m\n\u001b[1;32m     21\u001b[0m         \u001b[0;31m#The euclidian distances are then stacked together\u001b[0m\u001b[0;34m\u001b[0m\u001b[0;34m\u001b[0m\u001b[0m\n\u001b[1;32m     22\u001b[0m         \u001b[0mdistance\u001b[0m \u001b[0;34m=\u001b[0m \u001b[0mnp\u001b[0m\u001b[0;34m.\u001b[0m\u001b[0marray\u001b[0m\u001b[0;34m(\u001b[0m\u001b[0mdistance\u001b[0m\u001b[0;34m)\u001b[0m\u001b[0;34m\u001b[0m\u001b[0m\n\u001b[0;32m---> 23\u001b[0;31m         \u001b[0mkdist\u001b[0m\u001b[0;34m=\u001b[0m\u001b[0mnp\u001b[0m\u001b[0;34m.\u001b[0m\u001b[0mvstack\u001b[0m\u001b[0;34m(\u001b[0m\u001b[0;34m[\u001b[0m\u001b[0mkdist\u001b[0m\u001b[0;34m,\u001b[0m\u001b[0mdistance\u001b[0m\u001b[0;34m]\u001b[0m\u001b[0;34m)\u001b[0m\u001b[0;34m\u001b[0m\u001b[0m\n\u001b[0m\u001b[1;32m     24\u001b[0m \u001b[0;34m\u001b[0m\u001b[0m\n\u001b[1;32m     25\u001b[0m     \u001b[0;31m#The initial zero value is deleted\u001b[0m\u001b[0;34m\u001b[0m\u001b[0;34m\u001b[0m\u001b[0m\n",
      "\u001b[0;32m/Library/Frameworks/Python.framework/Versions/3.6/lib/python3.6/site-packages/numpy/core/shape_base.py\u001b[0m in \u001b[0;36mvstack\u001b[0;34m(tup)\u001b[0m\n\u001b[1;32m    232\u001b[0m \u001b[0;34m\u001b[0m\u001b[0m\n\u001b[1;32m    233\u001b[0m     \"\"\"\n\u001b[0;32m--> 234\u001b[0;31m     \u001b[0;32mreturn\u001b[0m \u001b[0m_nx\u001b[0m\u001b[0;34m.\u001b[0m\u001b[0mconcatenate\u001b[0m\u001b[0;34m(\u001b[0m\u001b[0;34m[\u001b[0m\u001b[0matleast_2d\u001b[0m\u001b[0;34m(\u001b[0m\u001b[0m_m\u001b[0m\u001b[0;34m)\u001b[0m \u001b[0;32mfor\u001b[0m \u001b[0m_m\u001b[0m \u001b[0;32min\u001b[0m \u001b[0mtup\u001b[0m\u001b[0;34m]\u001b[0m\u001b[0;34m,\u001b[0m \u001b[0;36m0\u001b[0m\u001b[0;34m)\u001b[0m\u001b[0;34m\u001b[0m\u001b[0m\n\u001b[0m\u001b[1;32m    235\u001b[0m \u001b[0;34m\u001b[0m\u001b[0m\n\u001b[1;32m    236\u001b[0m \u001b[0;32mdef\u001b[0m \u001b[0mhstack\u001b[0m\u001b[0;34m(\u001b[0m\u001b[0mtup\u001b[0m\u001b[0;34m)\u001b[0m\u001b[0;34m:\u001b[0m\u001b[0;34m\u001b[0m\u001b[0m\n",
      "\u001b[0;31mKeyboardInterrupt\u001b[0m: "
     ]
    }
   ],
   "source": [
    "#This body of code calculates the 4-distance of each datapoint as specified \n",
    "# in the literature. It effectively calculates all the euclidian distances\n",
    "#  from each point sorts them into ascending order and takes the forth closest\n",
    "#   neighbours distance. It eventually compiles a list of these values in ascending\n",
    "#    order.\n",
    "import math\n",
    "#Array needs to be initialised for the loop to save\n",
    "four_dist=[0]\n",
    "for j in range(0,len(t)):\n",
    "    #Empty list for the euclidian distance\n",
    "    kdist=[0]\n",
    "    \n",
    "    for i in range(0,len(t)):\n",
    "        #This double loops allows all the distances to be calculated for each star\n",
    "        x = X[j]\n",
    "        y = X[i]\n",
    "        \n",
    "        #This line calcualtes the euclidian distance\n",
    "        distance = math.sqrt(sum([(a - b) ** 2 for a, b in zip(x, y)]))\n",
    "    \n",
    "        #The euclidian distances are then stacked together\n",
    "        distance = np.array(distance)\n",
    "        kdist=np.vstack([kdist,distance])\n",
    "    \n",
    "    #The initial zero value is deleted\n",
    "    kdist=np.delete(kdist,0)\n",
    "    kdist=np.sort(kdist)\n",
    "    \n",
    "    four_dist=np.vstack([four_dist,kdist[4]])\n",
    "\n",
    "    \n",
    "    print(\"Loops Left: \" + str(len(t)-j), end=\"\\r\")\n",
    "\n",
    "#Deleted the first zero four distance value\n",
    "four_dist=np.delete(four_dist,0)\n",
    "\n",
    "#This section creates the 4-dist graph which one can extract the \n",
    "# EPS distance from. This is decided by noting where the homogenous valley\n",
    "#  starts and choosing the required point value.\n",
    "\n",
    "#The four disances are sorted in ascending order\n",
    "four_dist=np.sort(four_dist)\n",
    "\n",
    "#This creates a label for each distance to be plotted in a scatter plot\n",
    "points = np.array(range(0,len(t)))\n",
    "\n",
    "#We flip the order of the points so that the plot plots lager distancs first like in the literature\n",
    "points = np.flip(points,axis=0)"
   ]
  },
  {
   "cell_type": "code",
   "execution_count": 5,
   "metadata": {},
   "outputs": [
    {
     "ename": "NameError",
     "evalue": "name 'points' is not defined",
     "output_type": "error",
     "traceback": [
      "\u001b[0;31m---------------------------------------------------------------------------\u001b[0m",
      "\u001b[0;31mNameError\u001b[0m                                 Traceback (most recent call last)",
      "\u001b[0;32m<ipython-input-5-110bae5f01cd>\u001b[0m in \u001b[0;36m<module>\u001b[0;34m()\u001b[0m\n\u001b[1;32m     24\u001b[0m \u001b[0;34m\u001b[0m\u001b[0m\n\u001b[1;32m     25\u001b[0m \u001b[0mplt\u001b[0m\u001b[0;34m.\u001b[0m\u001b[0mfigure\u001b[0m\u001b[0;34m(\u001b[0m\u001b[0mfigsize\u001b[0m\u001b[0;34m=\u001b[0m\u001b[0;34m(\u001b[0m\u001b[0;36m15\u001b[0m\u001b[0;34m,\u001b[0m\u001b[0;36m15\u001b[0m\u001b[0;34m)\u001b[0m\u001b[0;34m)\u001b[0m\u001b[0;34m\u001b[0m\u001b[0m\n\u001b[0;32m---> 26\u001b[0;31m \u001b[0mplt\u001b[0m\u001b[0;34m.\u001b[0m\u001b[0mscatter\u001b[0m\u001b[0;34m(\u001b[0m\u001b[0mpoints\u001b[0m\u001b[0;34m,\u001b[0m\u001b[0mfour_dist\u001b[0m\u001b[0;34m,\u001b[0m\u001b[0ms\u001b[0m\u001b[0;34m=\u001b[0m\u001b[0;36m1\u001b[0m\u001b[0;34m)\u001b[0m\u001b[0;34m\u001b[0m\u001b[0m\n\u001b[0m\u001b[1;32m     27\u001b[0m \u001b[0mplt\u001b[0m\u001b[0;34m.\u001b[0m\u001b[0mgrid\u001b[0m\u001b[0;34m(\u001b[0m\u001b[0mb\u001b[0m\u001b[0;34m=\u001b[0m\u001b[0;32mTrue\u001b[0m\u001b[0;34m,\u001b[0m\u001b[0mlinewidth\u001b[0m\u001b[0;34m=\u001b[0m\u001b[0;36m1\u001b[0m\u001b[0;34m)\u001b[0m\u001b[0;34m\u001b[0m\u001b[0m\n\u001b[1;32m     28\u001b[0m \u001b[0mplt\u001b[0m\u001b[0;34m.\u001b[0m\u001b[0mtitle\u001b[0m\u001b[0;34m(\u001b[0m\u001b[0;34m\"DBSCAN 4-Distance Plot: Inside Solar Neighbourhood Halo\"\u001b[0m\u001b[0;34m,\u001b[0m \u001b[0mfontsize\u001b[0m\u001b[0;34m=\u001b[0m\u001b[0;36m28\u001b[0m\u001b[0;34m)\u001b[0m\u001b[0;34m\u001b[0m\u001b[0m\n",
      "\u001b[0;31mNameError\u001b[0m: name 'points' is not defined"
     ]
    },
    {
     "data": {
      "text/plain": [
       "<Figure size 1080x1080 with 0 Axes>"
      ]
     },
     "metadata": {},
     "output_type": "display_data"
    }
   ],
   "source": [
    "#y_space allows you to change the horizonal line spacing on the graph\n",
    "# which means you can alter it so it lies on the point where the graph\n",
    "#  expreiences to DBSCAN kick that allows you to extract the EPS value\n",
    "y_space = 0.15\n",
    "\n",
    "#Occasionally the drop is difficult to see, this is usually due to the\n",
    "# large distance values which muck with the resolution. If this happens\n",
    "#  deleting the extremum points should lead to the kick to show up.\n",
    "\n",
    "#Value Deleter\n",
    "#Number of specified values to be deleted.\n",
    "x=0\n",
    "if x > 0:\n",
    "    i=0\n",
    "    while i < x:\n",
    "        four_dist=np.delete(four_dist,[len(four_dist)-1])\n",
    "        points = np.delete(points,[len(four_dist)-1])\n",
    "    \n",
    "        i=i+1\n",
    "\n",
    "#The four distances and their labels are plotted on a scatterplot the \n",
    "# the distance can be exptracted visually\n",
    "\n",
    "\n",
    "plt.figure(figsize=(15,15))\n",
    "plt.scatter(points,four_dist,s=1)\n",
    "plt.grid(b=True,linewidth=1)\n",
    "plt.title(\"DBSCAN 4-Distance Plot: Inside Solar Neighbourhood Halo\", fontsize=28)\n",
    "plt.ylabel(\"Normalised Distance Value\",fontsize=32)\n",
    "plt.xlabel(\"Distance Rank\",fontsize=32)\n",
    "plt.yticks(np.arange(min(four_dist), max(four_dist)+1, y_space))\n",
    "plt.xticks(fontsize=24)\n",
    "plt.yticks(fontsize=24)\n",
    "fig = plt.scatter(points,four_dist,s=1)\n",
    "#plot = fig.add_subplot(111)\n",
    "\n",
    "\n",
    "\n",
    "\n",
    "#If you need to save the figure de-comment the command below\n",
    "#plt.savefig('Fig2_4dist.png', dpi = 150, overwrite=True)"
   ]
  },
  {
   "cell_type": "code",
   "execution_count": 6,
   "metadata": {},
   "outputs": [
    {
     "name": "stdout",
     "output_type": "stream",
     "text": [
      "Estimated number of clusters: 10\n",
      "Total Number of Stars in Dataset: 6789\n"
     ]
    }
   ],
   "source": [
    "#Using the graph you can see the line becomes smooth at around 0.328\n",
    "# so that is what is used as the DBSCAN EPS value.\n",
    "EPS = 0.328\n",
    "\n",
    "#This block of code runs the DBSCAN and informs the user how many clusters\n",
    "# were in fact detected.\n",
    "\n",
    "#The main block of DBSCAN code, this is adapted from the example provided \n",
    "# by the sci-kit learn package\n",
    "db = DBSCAN(eps=EPS, min_samples=4).fit(X)\n",
    "labels_true = np.full((1000,1),1000)\n",
    "core_samples_mask = np.zeros_like(db.labels_, dtype=bool)\n",
    "core_samples_mask[db.core_sample_indices_] = True\n",
    "labels = db.labels_\n",
    "\n",
    "# Number of clusters in labels, ignoring noise if present.\n",
    "n_clusters_ = len(set(labels)) - (1 if -1 in labels else 0)\n",
    "\n",
    "#The number of estimated clusters found using the EPS and min samples of 4\n",
    "# is displayed for the user\n",
    "print('Estimated number of clusters: %d' % n_clusters_)\n",
    "\n",
    "#The labels for each star in the set are extracted and then converted into \n",
    "# a column.\n",
    "P = db.labels_\n",
    "\n",
    "#Creates into a column which can be added to the table\n",
    "label = Column(P,name='cluster_label')\n",
    "t.add_column(label) #if you need to add the column\n",
    "\n",
    "print(\"Total Number of Stars in Dataset: \" + str(len(t)))"
   ]
  },
  {
   "cell_type": "code",
   "execution_count": 7,
   "metadata": {},
   "outputs": [],
   "source": [
    "#The subset now contains all the stars with an associated cluster label. This\n",
    "# is saved as a new table.\n",
    "t.write('Step_3_Output.fits',overwrite=True)"
   ]
  },
  {
   "cell_type": "code",
   "execution_count": null,
   "metadata": {},
   "outputs": [],
   "source": []
  },
  {
   "cell_type": "code",
   "execution_count": null,
   "metadata": {},
   "outputs": [],
   "source": []
  },
  {
   "cell_type": "code",
   "execution_count": null,
   "metadata": {},
   "outputs": [],
   "source": []
  }
 ],
 "metadata": {
  "kernelspec": {
   "display_name": "Python 3",
   "language": "python",
   "name": "python3"
  },
  "language_info": {
   "codemirror_mode": {
    "name": "ipython",
    "version": 3
   },
   "file_extension": ".py",
   "mimetype": "text/x-python",
   "name": "python",
   "nbconvert_exporter": "python",
   "pygments_lexer": "ipython3",
   "version": "3.6.4"
  }
 },
 "nbformat": 4,
 "nbformat_minor": 2
}
